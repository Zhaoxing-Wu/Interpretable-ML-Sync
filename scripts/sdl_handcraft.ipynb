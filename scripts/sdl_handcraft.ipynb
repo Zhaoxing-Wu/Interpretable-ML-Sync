{
 "cells": [
  {
   "cell_type": "code",
   "execution_count": 101,
   "id": "ed974de3",
   "metadata": {},
   "outputs": [],
   "source": [
    "from helper import *"
   ]
  },
  {
   "cell_type": "code",
   "execution_count": 96,
   "id": "fe0acd4d",
   "metadata": {},
   "outputs": [],
   "source": [
    "df_graph = pickle.load(open('../data/random_graph/ucla_20walk_graph.pkl', 'rb'))\n",
    "df_dynamics = pd.read_csv(\"../data/dynamics_pairs/fca_k8_ucla_20walk_dynamics.csv\")\n",
    "y = df_dynamics.y\n",
    "base = df_dynamics.baseline_width\n",
    "df_dynamics = df_dynamics.loc[:, 's1_1':'s50_20']\n",
    "df = pd.read_csv(\"../data/dynamics_pairs/fca_k8_ucla_20walk_colored_adj.csv\")"
   ]
  },
  {
   "cell_type": "code",
   "execution_count": 97,
   "id": "5c8d21c2",
   "metadata": {},
   "outputs": [],
   "source": [
    "df_feature = pd.read_csv(\"../data/random_graph/ucla_20walk_graph_features.csv\")"
   ]
  },
  {
   "cell_type": "code",
   "execution_count": 98,
   "id": "a577a47c",
   "metadata": {},
   "outputs": [],
   "source": [
    "scale = 4 # scale down colored adj\n",
    "X = pd.concat([pd.DataFrame(df_graph.T), df/scale], axis=1)"
   ]
  },
  {
   "cell_type": "code",
   "execution_count": 162,
   "id": "3eee19a5",
   "metadata": {},
   "outputs": [],
   "source": [
    "#r: number of dictionary elements\n",
    "def dict_handcraft(df_feature, base, X, y, r):\n",
    "    ind_dense = sorted(range(len(df_feature.diameter)), key=lambda i: df_feature.diameter[i], reverse=True)[:100]\n",
    "    ind_sparse = sorted(range(len(df_feature.diameter)), key=lambda i: df_feature.diameter[i], reverse=False)[:100]\n",
    "    ind_con = X.loc[base==True,].index.tolist()[:100]\n",
    "    \n",
    "    X_dense = X.loc[ind_dense,] #9\n",
    "    y_dense = y[ind_dense]\n",
    "    X_sparse = X.loc[ind_sparse,] #4\n",
    "    y_sparse = y[ind_sparse]\n",
    "    X_con = X.loc[ind_con,]\n",
    "    y_con = y[ind_con]\n",
    "    \n",
    "    W_dense, H_dense = ALS(X=X_dense.T.values, n_components=r, n_iter=100, a0 = 0, a1 = 0, a12 = 0, \n",
    "           H_nonnegativity=True, W_nonnegativity=True, compute_recons_error=True, subsample_ratio=1)\n",
    "    W_sparse, H_sparse = ALS(X=X_sparse.T.values, n_components=r, n_iter=100, a0 = 0, a1 = 0, a12 = 0, \n",
    "           H_nonnegativity=True, W_nonnegativity=True, compute_recons_error=True, subsample_ratio=1)\n",
    "    W_con, H_con = ALS(X=X_con.T.values, n_components=r, n_iter=100, a0 = 0, a1 = 0, a12 = 0, \n",
    "           H_nonnegativity=True, W_nonnegativity=True, compute_recons_error=True, subsample_ratio=1)\n",
    "\n",
    "    return np.concatenate([W_dense.T, W_sparse.T, W_con.T])"
   ]
  },
  {
   "cell_type": "code",
   "execution_count": 163,
   "id": "5b55bdd6",
   "metadata": {},
   "outputs": [],
   "source": [
    "W = dict_handcraft(df_feature, base, X, y, r)"
   ]
  },
  {
   "cell_type": "code",
   "execution_count": 164,
   "id": "33a56e36",
   "metadata": {},
   "outputs": [
    {
     "name": "stdout",
     "output_type": "stream",
     "text": [
      "0.763023493360572\n"
     ]
    }
   ],
   "source": [
    "from sklearn.linear_model import LogisticRegression   \n",
    "Y_data = y\n",
    "under_sampler = RandomUnderSampler()\n",
    "X_res, y_res = under_sampler.fit_resample(X.values, Y_data)\n",
    "X_train, X_test, y_train, y_test = train_test_split(X_res, y_res, \n",
    "                                                    test_size = 0.2, \n",
    "                                                    random_state = 4, \n",
    "                                                    stratify = y_res)\n",
    "logreg = LogisticRegression()  \n",
    "logreg.fit(np.matmul(W, X_train.T).T, y_train)  \n",
    "#Y_pred = logreg.predict(X[:2, :])  \n",
    "#Y_predict = logreg.predict_proba(X[:2, :])   \n",
    "score = logreg.score(np.matmul(W, X_test.T).T, y_test)  \n",
    "print(score)  "
   ]
  },
  {
   "cell_type": "code",
   "execution_count": null,
   "id": "a1a4e718",
   "metadata": {},
   "outputs": [],
   "source": []
  }
 ],
 "metadata": {
  "kernelspec": {
   "display_name": "Python 3",
   "language": "python",
   "name": "python3"
  },
  "language_info": {
   "codemirror_mode": {
    "name": "ipython",
    "version": 3
   },
   "file_extension": ".py",
   "mimetype": "text/x-python",
   "name": "python",
   "nbconvert_exporter": "python",
   "pygments_lexer": "ipython3",
   "version": "3.8.8"
  }
 },
 "nbformat": 4,
 "nbformat_minor": 5
}
