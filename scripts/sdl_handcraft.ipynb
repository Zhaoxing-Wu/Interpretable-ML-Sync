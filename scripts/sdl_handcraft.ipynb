{
 "cells": [
  {
   "cell_type": "code",
   "execution_count": 3,
   "id": "ed974de3",
   "metadata": {},
   "outputs": [],
   "source": [
    "from helper import *"
   ]
  },
  {
   "cell_type": "code",
   "execution_count": 4,
   "id": "fe0acd4d",
   "metadata": {},
   "outputs": [],
   "source": [
    "df_graph = pickle.load(open('../data/random_graph/ucla_20walk_graph.pkl', 'rb'))\n",
    "df_dynamics = pd.read_csv(\"../data/dynamics_pairs/fca_k8_ucla_20walk_dynamics.csv\")\n",
    "y = df_dynamics.y\n",
    "base = df_dynamics.baseline_width\n",
    "df_dynamics = df_dynamics.loc[:, 's1_1':'s50_20']\n",
    "df = pd.read_csv(\"../data/dynamics_pairs/fca_k8_ucla_20walk_colored_adj.csv\")\n",
    "df_feature = pd.read_csv(\"../data/random_graph/ucla_20walk_graph_features.csv\")"
   ]
  },
  {
   "cell_type": "code",
   "execution_count": 6,
   "id": "a577a47c",
   "metadata": {},
   "outputs": [],
   "source": [
    "scale = 4 # scale down colored adj\n",
    "X = pd.concat([pd.DataFrame(df_graph.T), df/scale], axis=1)"
   ]
  },
  {
   "cell_type": "code",
   "execution_count": 17,
   "id": "a42c4460",
   "metadata": {},
   "outputs": [
    {
     "data": {
      "text/plain": [
       "(10000, 20400)"
      ]
     },
     "execution_count": 17,
     "metadata": {},
     "output_type": "execute_result"
    }
   ],
   "source": [
    "X.shape"
   ]
  },
  {
   "cell_type": "code",
   "execution_count": 9,
   "id": "5b55bdd6",
   "metadata": {},
   "outputs": [],
   "source": [
    "W = dict_handcraft(df_feature.diameter, base, X, 4)"
   ]
  },
  {
   "cell_type": "code",
   "execution_count": 10,
   "id": "33a56e36",
   "metadata": {},
   "outputs": [
    {
     "name": "stdout",
     "output_type": "stream",
     "text": [
      "0.7517875383043923\n"
     ]
    }
   ],
   "source": [
    "from sklearn.linear_model import LogisticRegression   \n",
    "Y_data = y\n",
    "under_sampler = RandomUnderSampler()\n",
    "X_res, y_res = under_sampler.fit_resample(X.values, Y_data)\n",
    "X_train, X_test, y_train, y_test = train_test_split(X_res, y_res, \n",
    "                                                    test_size = 0.2, \n",
    "                                                    random_state = 4, \n",
    "                                                    stratify = y_res)\n",
    "logreg = LogisticRegression()  \n",
    "logreg.fit(np.matmul(W, X_train.T).T, y_train)  \n",
    "#Y_pred = logreg.predict(X[:2, :])  \n",
    "#Y_predict = logreg.predict_proba(X[:2, :])   \n",
    "score = logreg.score(np.matmul(W, X_test.T).T, y_test)  \n",
    "print(score)  "
   ]
  },
  {
   "cell_type": "code",
   "execution_count": 20,
   "id": "a1a4e718",
   "metadata": {},
   "outputs": [
    {
     "name": "stdout",
     "output_type": "stream",
     "text": [
      "[[1.53018233 1.77966321 1.23387545 1.56172237 0.26692042 0.43189418\n",
      "  0.16594548 0.39250786 3.38329152 1.78204565 3.00108536 1.41181359]]\n"
     ]
    }
   ],
   "source": [
    "print(np.exp(logreg.coef_))#/(1+np.exp(logreg.coef_)))\n",
    "#add p-value\n",
    "#random sample\n",
    "#print(logreg.intercept_)"
   ]
  },
  {
   "cell_type": "code",
   "execution_count": null,
   "id": "9451b1d0",
   "metadata": {},
   "outputs": [],
   "source": []
  }
 ],
 "metadata": {
  "kernelspec": {
   "display_name": "Python 3",
   "language": "python",
   "name": "python3"
  },
  "language_info": {
   "codemirror_mode": {
    "name": "ipython",
    "version": 3
   },
   "file_extension": ".py",
   "mimetype": "text/x-python",
   "name": "python",
   "nbconvert_exporter": "python",
   "pygments_lexer": "ipython3",
   "version": "3.8.8"
  }
 },
 "nbformat": 4,
 "nbformat_minor": 5
}
