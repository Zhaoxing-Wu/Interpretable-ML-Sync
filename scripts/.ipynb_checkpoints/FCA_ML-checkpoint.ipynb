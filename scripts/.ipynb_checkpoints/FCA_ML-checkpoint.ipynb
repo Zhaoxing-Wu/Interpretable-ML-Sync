{
 "cells": [
  {
   "cell_type": "code",
   "execution_count": 21,
   "id": "4d88be61",
   "metadata": {},
   "outputs": [],
   "source": [
    "from FCA import *"
   ]
  },
  {
   "cell_type": "code",
   "execution_count": 2,
   "id": "eb2e2ce2",
   "metadata": {},
   "outputs": [
    {
     "data": {
      "text/plain": [
       "True     7553\n",
       "False    2447\n",
       "Name: y, dtype: int64"
      ]
     },
     "execution_count": 2,
     "metadata": {},
     "output_type": "execute_result"
    }
   ],
   "source": [
    "import pandas as pd\n",
    "df = pd.read_csv(\"../data/fca/UCLA26_20walk_FCA_dynamics_8kappa.csv\")\n",
    "df.y.value_counts()"
   ]
  },
  {
   "cell_type": "code",
   "execution_count": 50,
   "id": "a33eea00",
   "metadata": {},
   "outputs": [],
   "source": [
    "fileo = open('./my_data/nws_20000nodes_1000neighbors_0.7prob/nws_20walk_graph.pkl', 'rb')\n",
    "df_graph = pickle.load(fileo)\n",
    "fileo.close()\n",
    "df_shifted_dynamics = pd.read_csv(\"./my_data/nws_20000nodes_1000neighbors_0.7prob/nws_20walk_FCA_shifted_dynamics_8kappa.csv\")\n",
    "df_dynamics = pd.read_csv(\"./my_data/nws_20000nodes_1000neighbors_0.7prob/nws_20walk_FCA_dynamics_8kappa.csv\")\n",
    "df_features = pd.read_csv(\"./my_data/nws_20000nodes_1000neighbors_0.7prob/nws_20walk_graph_features.csv\")\n",
    "df_g2v = pd.read_csv(\"./my_data/nws_20000nodes_1000neighbors_0.7prob/nws_20walk_graph2vec.csv\", header=None)\n",
    "df_spectral = pd.read_csv(\"./my_data/nws_20000nodes_1000neighbors_0.7prob/nws_20walk_spectral.csv\", header=None)"
   ]
  },
  {
   "cell_type": "code",
   "execution_count": 63,
   "id": "a0e00336",
   "metadata": {},
   "outputs": [],
   "source": [
    "fileo = open('./my_data/UCLA26_20walk/UCLA26_20walk_graph.pkl', 'rb')\n",
    "df_graph = pickle.load(fileo)\n",
    "fileo.close()\n",
    "df_shifted_dynamics = pd.read_csv(\"./my_data/UCLA26_20walk/UCLA26_20walk_FCA_shifted_dynamics_8kappa.csv\")\n",
    "df_dynamics = pd.read_csv(\"./my_data/UCLA26_20walk/UCLA26_20walk_FCA_dynamics_8kappa.csv\")\n",
    "df_features = pd.read_csv(\"./my_data/UCLA26_20walk/UCLA26_20walk_graph_features.csv\")\n",
    "df_g2v = pd.read_csv(\"./my_data/UCLA26_20walk/UCLA26_20walk_graph2vec.csv\", header=None)\n",
    "df_n2v = pd.read_csv(\"./my_data/UCLA26_20walk/UCLA26_20walk_node2vec.csv\", header=None)\n",
    "df_spectral = pd.read_csv(\"./my_data/UCLA26_20walk/UCLA26_20walk_spectral.csv\", header=None)"
   ]
  },
  {
   "cell_type": "code",
   "execution_count": 28,
   "id": "addbaaf0",
   "metadata": {},
   "outputs": [
    {
     "ename": "NameError",
     "evalue": "name 'results_dict_new' is not defined",
     "output_type": "error",
     "traceback": [
      "\u001b[0;31m---------------------------------------------------------------------------\u001b[0m",
      "\u001b[0;31mNameError\u001b[0m                                 Traceback (most recent call last)",
      "\u001b[0;32m<ipython-input-28-5a2274b960f2>\u001b[0m in \u001b[0;36m<module>\u001b[0;34m\u001b[0m\n\u001b[1;32m      3\u001b[0m \u001b[0mr\u001b[0m \u001b[0;34m=\u001b[0m \u001b[0;36m8\u001b[0m\u001b[0;34m\u001b[0m\u001b[0;34m\u001b[0m\u001b[0m\n\u001b[1;32m      4\u001b[0m \u001b[0mfig\u001b[0m\u001b[0;34m,\u001b[0m \u001b[0maxs\u001b[0m \u001b[0;34m=\u001b[0m \u001b[0mplt\u001b[0m\u001b[0;34m.\u001b[0m\u001b[0msubplots\u001b[0m\u001b[0;34m(\u001b[0m\u001b[0mncols\u001b[0m\u001b[0;34m=\u001b[0m\u001b[0mncol\u001b[0m\u001b[0;34m,\u001b[0m \u001b[0mnrows\u001b[0m\u001b[0;34m=\u001b[0m\u001b[0mnrow\u001b[0m\u001b[0;34m,\u001b[0m \u001b[0mfigsize\u001b[0m\u001b[0;34m=\u001b[0m\u001b[0;34m(\u001b[0m\u001b[0mncol\u001b[0m\u001b[0;34m*\u001b[0m\u001b[0;36m4\u001b[0m\u001b[0;34m,\u001b[0m \u001b[0mnrow\u001b[0m\u001b[0;34m*\u001b[0m\u001b[0;36m4\u001b[0m\u001b[0;34m)\u001b[0m\u001b[0;34m)\u001b[0m\u001b[0;34m\u001b[0m\u001b[0;34m\u001b[0m\u001b[0m\n\u001b[0;32m----> 5\u001b[0;31m \u001b[0msorted_indices\u001b[0m \u001b[0;34m=\u001b[0m \u001b[0mnp\u001b[0m\u001b[0;34m.\u001b[0m\u001b[0margsort\u001b[0m\u001b[0;34m(\u001b[0m\u001b[0mresults_dict_new\u001b[0m\u001b[0;34m[\u001b[0m\u001b[0;34m\"loading\"\u001b[0m\u001b[0;34m]\u001b[0m\u001b[0;34m[\u001b[0m\u001b[0;36m1\u001b[0m\u001b[0;34m]\u001b[0m\u001b[0;34m[\u001b[0m\u001b[0;36m0\u001b[0m\u001b[0;34m]\u001b[0m\u001b[0;34m[\u001b[0m\u001b[0;36m1\u001b[0m\u001b[0;34m:\u001b[0m\u001b[0;34m]\u001b[0m\u001b[0;34m)\u001b[0m\u001b[0;34m[\u001b[0m\u001b[0;34m:\u001b[0m\u001b[0;34m:\u001b[0m\u001b[0;34m-\u001b[0m\u001b[0;36m1\u001b[0m\u001b[0;34m]\u001b[0m\u001b[0;34m\u001b[0m\u001b[0;34m\u001b[0m\u001b[0m\n\u001b[0m\u001b[1;32m      6\u001b[0m \u001b[0;32mfor\u001b[0m \u001b[0mi\u001b[0m \u001b[0;32min\u001b[0m \u001b[0mrange\u001b[0m\u001b[0;34m(\u001b[0m\u001b[0mr\u001b[0m\u001b[0;34m)\u001b[0m\u001b[0;34m:\u001b[0m\u001b[0;34m\u001b[0m\u001b[0;34m\u001b[0m\u001b[0m\n\u001b[1;32m      7\u001b[0m     \u001b[0mind\u001b[0m \u001b[0;34m=\u001b[0m \u001b[0msorted_indices\u001b[0m\u001b[0;34m[\u001b[0m\u001b[0mi\u001b[0m\u001b[0;34m]\u001b[0m\u001b[0;34m\u001b[0m\u001b[0;34m\u001b[0m\u001b[0m\n",
      "\u001b[0;31mNameError\u001b[0m: name 'results_dict_new' is not defined"
     ]
    },
    {
     "data": {
      "image/png": "[encoded data removed]",
      "text/plain": [
       "<Figure size 2304x576 with 16 Axes>"
      ]
     },
     "metadata": {
      "needs_background": "light"
     },
     "output_type": "display_data"
    }
   ],
   "source": [
    "ncol = 8\n",
    "nrow = 2\n",
    "r = 8\n",
    "fig, axs = plt.subplots(ncols=ncol, nrows=nrow, figsize=(ncol*4, nrow*4))\n",
    "sorted_indices = np.argsort(results_dict_new[\"loading\"][1][0][1:])[::-1]\n",
    "for i in range(r):\n",
    "    ind = sorted_indices[i]\n",
    "    sns.heatmap(results_dict_new[\"loading\"][0].T[ind][0:1000].reshape(50, 20),\n",
    "                ax = axs[i//ncol, (i-4)%ncol])\n",
    "    axs[i//ncol, i%ncol].title.set_text(str(results_dict_new[\"loading\"][1][0][1:][sorted_indices[i]]))\n",
    "    \n",
    "    df_adj = pd.DataFrame(results_dict_new[\"loading\"][0].T[ind][1000:].reshape(20, 20))\n",
    "    G = nx.Graph()\n",
    "    G = nx.from_pandas_adjacency(df_adj)\n",
    "    edges = G.edges()\n",
    "    weights = [120*G[u][v]['weight'] for u,v in edges]\n",
    "    nx.draw(G, ax=axs[i//ncol+1, i%ncol], width=weights)"
   ]
  },
  {
   "cell_type": "markdown",
   "id": "4e426d81",
   "metadata": {},
   "source": [
    "## Baseline"
   ]
  },
  {
   "cell_type": "code",
   "execution_count": 64,
   "id": "1863f5d9",
   "metadata": {},
   "outputs": [
    {
     "name": "stdout",
     "output_type": "stream",
     "text": [
      "[[1225 1222]\n",
      " [ 645 1802]]\n",
      "Precision: 0.596\n",
      "Recall: 0.736\n",
      "F1: 0.659\n",
      "Accuracy: 0.619\n"
     ]
    }
   ],
   "source": [
    "df = df_dynamics.copy()\n",
    "Y_data = df_dynamics.y #concentration\n",
    "df.drop('y', axis=1, inplace=True)\n",
    "\n",
    "under_sampler = RandomUnderSampler(random_state=42)\n",
    "X_res, y_res = under_sampler.fit_resample(df, Y_data)\n",
    "Y_baseline = X_res.baseline_width\n",
    "Y_data = y_res\n",
    "\n",
    "#baseline model\n",
    "length = len(Y_baseline[Y_baseline==False])\n",
    "Y_baseline[random.sample(list(Y_baseline[Y_baseline==False].index),length//2)] = True\n",
    "conf_matrix_baseline = confusion_matrix(y_true=Y_data, y_pred=Y_baseline)\n",
    "print(conf_matrix_baseline)\n",
    "print('Precision: %.3f' % precision_score(Y_data, Y_baseline))\n",
    "print('Recall: %.3f' % recall_score(Y_data, Y_baseline))\n",
    "print('F1: %.3f' % f1_score(Y_data, Y_baseline))\n",
    "print('Accuracy: %.3f' % accuracy_score(Y_data, Y_baseline))\n",
    "acc_baseline = accuracy_score(Y_data, Y_baseline)"
   ]
  },
  {
   "cell_type": "markdown",
   "id": "b5860672",
   "metadata": {},
   "source": [
    "## 1. Dynamics"
   ]
  },
  {
   "cell_type": "code",
   "execution_count": 65,
   "id": "a1c9d2c6",
   "metadata": {},
   "outputs": [
    {
     "name": "stdout",
     "output_type": "stream",
     "text": [
      "[[419  71]\n",
      " [141 348]]\n",
      "Precision: 0.831\n",
      "Recall: 0.712\n",
      "F1: 0.767\n",
      "Accuracy: 0.783\n"
     ]
    }
   ],
   "source": [
    "df = df_dynamics.loc[:, 's1_1':'s50_20'].copy()\n",
    "Y_data = df_dynamics.y\n",
    "under_sampler = RandomUnderSampler(random_state=42)\n",
    "X_res, y_res = under_sampler.fit_resample(df, Y_data)\n",
    "X_train, X_test, y_train, y_test = train_test_split(X_res, y_res, \n",
    "                                                    test_size = 0.2, \n",
    "                                                    random_state = 4, \n",
    "                                                    stratify = y_res)\n",
    "\n",
    "\n",
    "rf = RandomForestClassifier(random_state = 42)\n",
    "rf.fit(X_train, y_train)\n",
    "y_pred = rf.predict(X_test)\n",
    "conf_matrix_dynamics = confusion_matrix(y_true=y_test, y_pred=y_pred)\n",
    "print(conf_matrix_dynamics)\n",
    "print('Precision: %.3f' % precision_score(y_test, y_pred))\n",
    "print('Recall: %.3f' % recall_score(y_test, y_pred))\n",
    "print('F1: %.3f' % f1_score(y_test, y_pred))\n",
    "print('Accuracy: %.3f' % accuracy_score(y_test, y_pred))\n",
    "acc_dynamics = accuracy_score(y_test, y_pred)"
   ]
  },
  {
   "cell_type": "markdown",
   "id": "1c9012a0",
   "metadata": {},
   "source": [
    "## 2. Summarized Dynamics"
   ]
  },
  {
   "cell_type": "code",
   "execution_count": 66,
   "id": "0ded794c",
   "metadata": {},
   "outputs": [
    {
     "name": "stdout",
     "output_type": "stream",
     "text": [
      "[[463  27]\n",
      " [118 371]]\n",
      "Precision: 0.932\n",
      "Recall: 0.759\n",
      "F1: 0.837\n",
      "Accuracy: 0.852\n"
     ]
    }
   ],
   "source": [
    "df = df_dynamics.loc[:, 'q1_s1':'width_s50'].copy()\n",
    "Y_data = df_dynamics.y\n",
    "under_sampler = RandomUnderSampler(random_state=42)\n",
    "X_res, y_res = under_sampler.fit_resample(df, Y_data)\n",
    "X_train, X_test, y_train, y_test = train_test_split(X_res, y_res, \n",
    "                                                    test_size = 0.2, \n",
    "                                                    random_state = 4, \n",
    "                                                    stratify = y_res)\n",
    "\n",
    "\n",
    "rf = RandomForestClassifier(random_state = 42)\n",
    "rf.fit(X_train, y_train)\n",
    "y_pred = rf.predict(X_test)\n",
    "conf_matrix_summarized_dynamics = confusion_matrix(y_true=y_test, y_pred=y_pred)\n",
    "print(conf_matrix_summarized_dynamics)\n",
    "print('Precision: %.3f' % precision_score(y_test, y_pred))\n",
    "print('Recall: %.3f' % recall_score(y_test, y_pred))\n",
    "print('F1: %.3f' % f1_score(y_test, y_pred))\n",
    "print('Accuracy: %.3f' % accuracy_score(y_test, y_pred))\n",
    "acc_summarized_dynamics = accuracy_score(y_test, y_pred)"
   ]
  },
  {
   "cell_type": "markdown",
   "id": "6144ff54",
   "metadata": {},
   "source": [
    "## 3. Shifted Dynamics"
   ]
  },
  {
   "cell_type": "code",
   "execution_count": 67,
   "id": "54f9bc48",
   "metadata": {},
   "outputs": [
    {
     "name": "stdout",
     "output_type": "stream",
     "text": [
      "[[455  35]\n",
      " [131 358]]\n",
      "Precision: 0.911\n",
      "Recall: 0.732\n",
      "F1: 0.812\n",
      "Accuracy: 0.830\n"
     ]
    }
   ],
   "source": [
    "df = df_shifted_dynamics.copy()\n",
    "Y_data = df_dynamics.y\n",
    "under_sampler = RandomUnderSampler(random_state=42)\n",
    "X_res, y_res = under_sampler.fit_resample(df, Y_data)\n",
    "X_train, X_test, y_train, y_test = train_test_split(X_res, y_res, \n",
    "                                                    test_size = 0.2, \n",
    "                                                    random_state = 4, \n",
    "                                                    stratify = y_res)\n",
    "\n",
    "\n",
    "rf = RandomForestClassifier(random_state = 42)\n",
    "rf.fit(X_train, y_train)\n",
    "y_pred = rf.predict(X_test)\n",
    "conf_matrix_shifted_dynamics = confusion_matrix(y_true=y_test, y_pred=y_pred)\n",
    "print(conf_matrix_shifted_dynamics)\n",
    "print('Precision: %.3f' % precision_score(y_test, y_pred))\n",
    "print('Recall: %.3f' % recall_score(y_test, y_pred))\n",
    "print('F1: %.3f' % f1_score(y_test, y_pred))\n",
    "print('Accuracy: %.3f' % accuracy_score(y_test, y_pred))\n",
    "acc_shifted_dynamics = accuracy_score(y_test, y_pred)"
   ]
  },
  {
   "cell_type": "markdown",
   "id": "81a6e924",
   "metadata": {},
   "source": [
    "## 4. Graph Features + Dynamics"
   ]
  },
  {
   "cell_type": "code",
   "execution_count": 68,
   "id": "fe9e1a65",
   "metadata": {},
   "outputs": [
    {
     "name": "stdout",
     "output_type": "stream",
     "text": [
      "[[406  84]\n",
      " [114 375]]\n",
      "Precision: 0.817\n",
      "Recall: 0.767\n",
      "F1: 0.791\n",
      "Accuracy: 0.798\n"
     ]
    }
   ],
   "source": [
    "df = pd.concat([df_dynamics.loc[:, 's1_1':'s50_20'], \n",
    "                df_features], axis=1, join='inner').copy()\n",
    "Y_data = df_dynamics.y\n",
    "under_sampler = RandomUnderSampler(random_state=42)\n",
    "X_res, y_res = under_sampler.fit_resample(df, Y_data)\n",
    "X_train, X_test, y_train, y_test = train_test_split(X_res, y_res, \n",
    "                                                    test_size = 0.2, \n",
    "                                                    random_state = 4, \n",
    "                                                    stratify = y_res)\n",
    "rf = RandomForestClassifier(random_state = 42)\n",
    "rf.fit(X_train, y_train)\n",
    "y_pred = rf.predict(X_test)\n",
    "conf_matrix_features = confusion_matrix(y_true=y_test, y_pred=y_pred)\n",
    "print(conf_matrix_features)\n",
    "print('Precision: %.3f' % precision_score(y_test, y_pred))\n",
    "print('Recall: %.3f' % recall_score(y_test, y_pred))\n",
    "print('F1: %.3f' % f1_score(y_test, y_pred))\n",
    "print('Accuracy: %.3f' % accuracy_score(y_test, y_pred))\n",
    "acc_features = accuracy_score(y_test, y_pred)"
   ]
  },
  {
   "cell_type": "markdown",
   "id": "14b362e8",
   "metadata": {},
   "source": [
    "## 5. node2vec + Dynamics"
   ]
  },
  {
   "cell_type": "code",
   "execution_count": 69,
   "id": "2dcd69b0",
   "metadata": {},
   "outputs": [
    {
     "name": "stdout",
     "output_type": "stream",
     "text": [
      "[[423  67]\n",
      " [162 327]]\n",
      "Precision: 0.830\n",
      "Recall: 0.669\n",
      "F1: 0.741\n",
      "Accuracy: 0.766\n"
     ]
    }
   ],
   "source": [
    "df = pd.concat([df_dynamics.loc[:, 's1_1':'s50_20'], \n",
    "                df_n2v], axis=1, join='inner').copy()\n",
    "Y_data = df_dynamics.y\n",
    "under_sampler = RandomUnderSampler(random_state=42)\n",
    "X_res, y_res = under_sampler.fit_resample(df, Y_data)\n",
    "X_train, X_test, y_train, y_test = train_test_split(X_res, y_res, \n",
    "                                                    test_size = 0.2, \n",
    "                                                    random_state = 4, \n",
    "                                                    stratify = y_res)\n",
    "rf = RandomForestClassifier(random_state = 42)\n",
    "rf.fit(X_train, y_train)\n",
    "y_pred = rf.predict(X_test)\n",
    "conf_matrix_n2v = confusion_matrix(y_true=y_test, y_pred=y_pred)\n",
    "print(conf_matrix_n2v)\n",
    "print('Precision: %.3f' % precision_score(y_test, y_pred))\n",
    "print('Recall: %.3f' % recall_score(y_test, y_pred))\n",
    "print('F1: %.3f' % f1_score(y_test, y_pred))\n",
    "print('Accuracy: %.3f' % accuracy_score(y_test, y_pred))\n",
    "acc_n2v = accuracy_score(y_test, y_pred)"
   ]
  },
  {
   "cell_type": "markdown",
   "id": "e19200f3",
   "metadata": {},
   "source": [
    "## 6. graph2vec + Dynamics"
   ]
  },
  {
   "cell_type": "code",
   "execution_count": 70,
   "id": "5ab2f18e",
   "metadata": {},
   "outputs": [
    {
     "name": "stdout",
     "output_type": "stream",
     "text": [
      "[[414  76]\n",
      " [145 344]]\n",
      "Precision: 0.819\n",
      "Recall: 0.703\n",
      "F1: 0.757\n",
      "Accuracy: 0.774\n"
     ]
    }
   ],
   "source": [
    "df = pd.concat([df_dynamics.loc[:, 's1_1':'s50_20'], \n",
    "                df_g2v], axis=1, join='inner').copy()\n",
    "Y_data = df_dynamics.y\n",
    "under_sampler = RandomUnderSampler(random_state=42)\n",
    "X_res, y_res = under_sampler.fit_resample(df, Y_data)\n",
    "X_train, X_test, y_train, y_test = train_test_split(X_res, y_res, \n",
    "                                                    test_size = 0.2, \n",
    "                                                    random_state = 4, \n",
    "                                                    stratify = y_res)\n",
    "rf = RandomForestClassifier(random_state = 42)\n",
    "rf.fit(X_train, y_train)\n",
    "y_pred = rf.predict(X_test)\n",
    "conf_matrix_g2v = confusion_matrix(y_true=y_test, y_pred=y_pred)\n",
    "print(conf_matrix_g2v)\n",
    "print('Precision: %.3f' % precision_score(y_test, y_pred))\n",
    "print('Recall: %.3f' % recall_score(y_test, y_pred))\n",
    "print('F1: %.3f' % f1_score(y_test, y_pred))\n",
    "print('Accuracy: %.3f' % accuracy_score(y_test, y_pred))\n",
    "acc_g2v = accuracy_score(y_test, y_pred)"
   ]
  },
  {
   "cell_type": "markdown",
   "id": "47a3f31e",
   "metadata": {},
   "source": [
    "## 7. spectral embedding + Dynamics"
   ]
  },
  {
   "cell_type": "code",
   "execution_count": 71,
   "id": "cd04bb93",
   "metadata": {},
   "outputs": [
    {
     "name": "stdout",
     "output_type": "stream",
     "text": [
      "[[423  67]\n",
      " [138 351]]\n",
      "Precision: 0.840\n",
      "Recall: 0.718\n",
      "F1: 0.774\n",
      "Accuracy: 0.791\n"
     ]
    }
   ],
   "source": [
    "df = pd.concat([df_dynamics.loc[:, 's1_1':'s50_20'], \n",
    "                df_spectral], axis=1, join='inner').copy()\n",
    "Y_data = df_dynamics.y\n",
    "under_sampler = RandomUnderSampler(random_state=42)\n",
    "X_res, y_res = under_sampler.fit_resample(df, Y_data)\n",
    "X_train, X_test, y_train, y_test = train_test_split(X_res, y_res, \n",
    "                                                    test_size = 0.2, \n",
    "                                                    random_state = 4, \n",
    "                                                    stratify = y_res)\n",
    "rf = RandomForestClassifier(random_state = 42)\n",
    "rf.fit(X_train, y_train)\n",
    "y_pred = rf.predict(X_test)\n",
    "conf_matrix_spectral = confusion_matrix(y_true=y_test, y_pred=y_pred)\n",
    "print(conf_matrix_spectral)\n",
    "print('Precision: %.3f' % precision_score(y_test, y_pred))\n",
    "print('Recall: %.3f' % recall_score(y_test, y_pred))\n",
    "print('F1: %.3f' % f1_score(y_test, y_pred))\n",
    "print('Accuracy: %.3f' % accuracy_score(y_test, y_pred))\n",
    "acc_spectral = accuracy_score(y_test, y_pred)"
   ]
  },
  {
   "cell_type": "markdown",
   "id": "82181c25",
   "metadata": {},
   "source": [
    "## 8. adjacency matrix + Dynamics"
   ]
  },
  {
   "cell_type": "code",
   "execution_count": 72,
   "id": "4cf31d17",
   "metadata": {},
   "outputs": [
    {
     "name": "stdout",
     "output_type": "stream",
     "text": [
      "[[425  65]\n",
      " [141 348]]\n",
      "Precision: 0.843\n",
      "Recall: 0.712\n",
      "F1: 0.772\n",
      "Accuracy: 0.790\n"
     ]
    }
   ],
   "source": [
    "df = pd.concat([df_dynamics.loc[:, 's1_1':'s50_20'], \n",
    "                pd.DataFrame(df_graph.T)], axis=1, join='inner').copy()\n",
    "Y_data = df_dynamics.y\n",
    "under_sampler = RandomUnderSampler(random_state=42)\n",
    "X_res, y_res = under_sampler.fit_resample(df, Y_data)\n",
    "X_train, X_test, y_train, y_test = train_test_split(X_res, y_res, \n",
    "                                                    test_size = 0.2, \n",
    "                                                    random_state = 4, \n",
    "                                                    stratify = y_res)\n",
    "rf = RandomForestClassifier(random_state = 42)\n",
    "rf.fit(X_train, y_train)\n",
    "y_pred = rf.predict(X_test)\n",
    "conf_matrix_adj = confusion_matrix(y_true=y_test, y_pred=y_pred)\n",
    "print(conf_matrix_adj)\n",
    "print('Precision: %.3f' % precision_score(y_test, y_pred))\n",
    "print('Recall: %.3f' % recall_score(y_test, y_pred))\n",
    "print('F1: %.3f' % f1_score(y_test, y_pred))\n",
    "print('Accuracy: %.3f' % accuracy_score(y_test, y_pred))\n",
    "acc_adj = accuracy_score(y_test, y_pred)"
   ]
  },
  {
   "cell_type": "code",
   "execution_count": 73,
   "id": "63e773ee",
   "metadata": {},
   "outputs": [
    {
     "data": {
      "image/png": "[encoded data removed]",
      "text/plain": [
       "<Figure size 864x864 with 18 Axes>"
      ]
     },
     "metadata": {
      "needs_background": "light"
     },
     "output_type": "display_data"
    }
   ],
   "source": [
    "ncol = 3\n",
    "nrow = 3\n",
    "fig, axs = plt.subplots(ncols=ncol, nrows=nrow, figsize=(ncol*4, nrow*4))\n",
    "\n",
    "sns.heatmap(conf_matrix_baseline/np.sum(conf_matrix_baseline), annot=True, \n",
    "            fmt='.2%', cmap='Blues', ax = axs[0, 0])\n",
    "axs[0, 0].title.set_text('Baseline '+str(round(acc_baseline, 2)))\n",
    "\n",
    "sns.heatmap(conf_matrix_dynamics/np.sum(conf_matrix_dynamics), annot=True, \n",
    "            fmt='.2%', cmap='Blues', ax = axs[0, 1])\n",
    "axs[0, 1].title.set_text('Dynamics '+str(round(acc_dynamics, 2)))\n",
    "sns.heatmap(conf_matrix_summarized_dynamics/np.sum(conf_matrix_summarized_dynamics), annot=True, \n",
    "            fmt='.2%', cmap='Blues', ax = axs[0, 2])\n",
    "axs[0, 2].title.set_text('Dynamics(Width) '+str(round(acc_summarized_dynamics, 2)))\n",
    "sns.heatmap(conf_matrix_shifted_dynamics/np.sum(conf_matrix_shifted_dynamics), annot=True, \n",
    "            fmt='.2%', cmap='Blues', ax = axs[1, 0])\n",
    "axs[1, 0].title.set_text('Dynamics(Shifted) '+str(round(acc_shifted_dynamics, 2)))\n",
    "\n",
    "sns.heatmap(conf_matrix_adj/np.sum(conf_matrix_adj), annot=True, \n",
    "            fmt='.2%', cmap='Blues', ax = axs[1, 1])\n",
    "axs[1, 1].title.set_text('Adjacency Matrix+Dynamics '+str(round(acc_adj, 2)))\n",
    "sns.heatmap(conf_matrix_features/np.sum(conf_matrix_features), annot=True, \n",
    "            fmt='.2%', cmap='Blues', ax = axs[1, 2])\n",
    "axs[1, 2].title.set_text('Graph Features+Dynamics '+str(round(acc_features, 2)))\n",
    "sns.heatmap(conf_matrix_n2v/np.sum(conf_matrix_n2v), annot=True, \n",
    "            fmt='.2%', cmap='Blues', ax = axs[2, 0])\n",
    "axs[2, 0].title.set_text('node2vec+Dynamics '+str(round(acc_n2v, 2)))\n",
    "sns.heatmap(conf_matrix_g2v/np.sum(conf_matrix_g2v), annot=True, \n",
    "            fmt='.2%', cmap='Blues', ax = axs[2, 1])\n",
    "axs[2, 1].title.set_text('graph2vec+Dynamics '+str(round(acc_g2v, 2)))\n",
    "sns.heatmap(conf_matrix_spectral/np.sum(conf_matrix_spectral), annot=True, \n",
    "            fmt='.2%', cmap='Blues', ax = axs[2, 2])\n",
    "axs[2, 2].title.set_text('Spectral Embedding+Dynamics '+str(round(acc_spectral, 2)))\n",
    "\n",
    "fig.savefig(\"temp.jpg\")"
   ]
  },
  {
   "cell_type": "markdown",
   "id": "a71322ca",
   "metadata": {},
   "source": [
    "### better display of confusion matrix"
   ]
  },
  {
   "cell_type": "code",
   "execution_count": 66,
   "id": "a7ced2b6",
   "metadata": {},
   "outputs": [
    {
     "data": {
      "image/png": "[encoded data removed]",
      "text/plain": [
       "<Figure size 432x288 with 2 Axes>"
      ]
     },
     "metadata": {
      "needs_background": "light"
     },
     "output_type": "display_data"
    }
   ],
   "source": [
    "cf_matrix = conf_matrix_g2v\n",
    "ax = sns.heatmap(cf_matrix/np.sum(cf_matrix), annot=True, \n",
    "            fmt='.2%', cmap='Blues')\n",
    "\n",
    "ax.set_title('Seaborn Confusion Matrix with labels\\n\\n');\n",
    "ax.set_xlabel('\\nPredicted Values')\n",
    "ax.set_ylabel('Actual Values ');\n",
    "\n",
    "## Ticket labels - List must be in alphabetical order\n",
    "ax.xaxis.set_ticklabels(['False','True'])\n",
    "ax.yaxis.set_ticklabels(['False','True'])\n",
    "\n",
    "## Display the visualization of the Confusion Matrix.\n",
    "plt.show()"
   ]
  },
  {
   "cell_type": "code",
   "execution_count": 69,
   "id": "767d8da0",
   "metadata": {},
   "outputs": [
    {
     "data": {
      "image/png": "[encoded data removed]",
      "text/plain": [
       "<Figure size 432x288 with 1 Axes>"
      ]
     },
     "metadata": {
      "needs_background": "light"
     },
     "output_type": "display_data"
    }
   ],
   "source": [
    "importances = rf.feature_importances_\n",
    "\n",
    "sorted_indices = np.argsort(importances)[::-1]\n",
    "\n",
    "plt.title('Feature Importance')\n",
    "plt.bar(range(20), list(importances[sorted_indices])[0:20], align='center')\n",
    "plt.xticks(range(20), list(X_train.columns[sorted_indices])[0:20], rotation=90)\n",
    "plt.tight_layout()\n",
    "plt.show()"
   ]
  },
  {
   "cell_type": "code",
   "execution_count": 26,
   "id": "6508ba31",
   "metadata": {},
   "outputs": [
    {
     "name": "stdout",
     "output_type": "stream",
     "text": [
      "closeness_centrality_n20\n",
      "closeness_centrality_n19\n",
      "diameter\n",
      "closeness_centrality_n18\n",
      "closeness_centrality_n17\n",
      "closeness_centrality_n3\n",
      "closeness_centrality_n2\n",
      "closeness_centrality_n5\n",
      "closeness_centrality_n1\n",
      "betweenness_centrality_n14\n",
      "closeness_centrality_n4\n",
      "closeness_centrality_n6\n",
      "betweenness_centrality_n10\n",
      "betweenness_centrality_n9\n",
      "betweenness_centrality_n11\n",
      "eigenvector_centrality_n20\n",
      "betweenness_centrality_n8\n",
      "avg_clustering_coef\n",
      "eigenvector_centrality_n1\n",
      "eigenvector_centrality_n2\n",
      "closeness_centrality_n14\n",
      "eigenvector_centrality_n4\n",
      "eigenvector_centrality_n3\n",
      "closeness_centrality_n15\n",
      "betweenness_centrality_n15\n",
      "closeness_centrality_n16\n",
      "closeness_centrality_n10\n",
      "closeness_centrality_n9\n"
     ]
    }
   ],
   "source": [
    "for i in list(X_train.columns[sorted_indices])[0:50]:\n",
    "    if not i.count('width'):\n",
    "        print(i)\n",
    "        \n",
    "plt.figure(figsize=(16,15))\n",
    "for i in range(20):\n",
    "    plt.subplot(4,5,i+1)\n",
    "    colname = \"closeness_centrality_n\"+str(i+1)\n",
    "    plt.hist(df_features[colname][Y_data==True], color = \"skyblue\",  lw=0)\n",
    "    plt.hist(df_features[colname][Y_data==False], color = \"red\", lw=0)\n",
    "    plt.title(\"Node\"+str(i+1))"
   ]
  },
  {
   "cell_type": "code",
   "execution_count": null,
   "id": "541605e0",
   "metadata": {},
   "outputs": [],
   "source": [
    "\"\"\"\n",
    "svc = SVC(kernel='linear', C=10.0, random_state=1)\n",
    "svc.fit(X_train, y_train)\n",
    "y_pred = svc.predict(X_test)\n",
    "conf_matrix = confusion_matrix(y_true=y_test, y_pred=y_pred)\n",
    "print(conf_matrix)\n",
    "print('Precision: %.3f' % precision_score(y_test, y_pred))\n",
    "print('Recall: %.3f' % recall_score(y_test, y_pred))\n",
    "print('F1: %.3f' % f1_score(y_test, y_pred))\n",
    "print('Accuracy: %.3f' % accuracy_score(y_test, y_pred))\n",
    "\"\"\"\n",
    "\n",
    "\n",
    "\"\"\"\n",
    " # xgboost for feature importance on a classification problem\n",
    "from sklearn.datasets import make_classification\n",
    "from xgboost import XGBClassifier\n",
    "# define the model\n",
    "model = XGBClassifier()\n",
    "# fit the model\n",
    "model.fit(X_train, y_train)\n",
    "# get importance\n",
    "importance = model.feature_importances_\n",
    "# summarize feature importance\n",
    "for i,v in enumerate(importance):\n",
    "    print(\"Feature: \", df.columns[i], \", Score: %.5f\" % (v))\n",
    "\"\"\"\n",
    "\n",
    "\n",
    "#fig, ax = plt.subplots(figsize=(5, 5))\n",
    "#ax.matshow(conf_matrix, cmap=plt.cm.Oranges, alpha=0.3)\n",
    "#for i in range(conf_matrix.shape[0]):\n",
    "#    for j in range(conf_matrix.shape[1]):\n",
    "#        ax.text(x=j, y=i,s=conf_matrix[i, j], va='center', ha='center', size='xx-large')"
   ]
  }
 ],
 "metadata": {
  "@webio": {
   "lastCommId": null,
   "lastKernelId": null
  },
  "kernelspec": {
   "display_name": "Python 3",
   "language": "python",
   "name": "python3"
  },
  "language_info": {
   "codemirror_mode": {
    "name": "ipython",
    "version": 3
   },
   "file_extension": ".py",
   "mimetype": "text/x-python",
   "name": "python",
   "nbconvert_exporter": "python",
   "pygments_lexer": "ipython3",
   "version": "3.8.8"
  }
 },
 "nbformat": 4,
 "nbformat_minor": 5
}
