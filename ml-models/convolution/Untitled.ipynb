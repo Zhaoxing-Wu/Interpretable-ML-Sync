{
 "cells": [
  {
   "cell_type": "code",
   "execution_count": 81,
   "id": "856f2d0b",
   "metadata": {},
   "outputs": [],
   "source": [
    "%reload_ext autoreload\n",
    "%autoreload 2\n",
    "\n",
    "import matplotlib.pyplot as plt\n",
    "from math import floor\n",
    "from convolution import *"
   ]
  },
  {
   "cell_type": "code",
   "execution_count": 110,
   "id": "d4f3720c",
   "metadata": {},
   "outputs": [],
   "source": [
    "num_nodes = 200\n",
    "probability = 0.25\n",
    "seed = 42\n",
    "sample_k = 20\n",
    "sample_size = 100"
   ]
  },
  {
   "cell_type": "code",
   "execution_count": 111,
   "id": "a79f4bc7",
   "metadata": {},
   "outputs": [],
   "source": [
    "NWS = nx.newman_watts_strogatz_graph(num_nodes, 50, probability, seed)\n",
    "new_nodes = {e: n for n, e in enumerate(NWS.nodes, start=1)}\n",
    "new_edges = [(new_nodes[e1], new_nodes[e2]) for e1, e2 in NWS.edges]\n",
    "edgelist = []\n",
    "for i in range(len(new_edges)):\n",
    "    temp = [str(new_edges[i][0]), str(new_edges[i][1])]\n",
    "    edgelist.append(temp)\n",
    "G = nn.NNetwork()\n",
    "G.add_edges(edgelist)"
   ]
  },
  {
   "cell_type": "code",
   "execution_count": 75,
   "id": "f13e9e99",
   "metadata": {},
   "outputs": [],
   "source": [
    "def FCA(G, s, k, iteration):\n",
    "    \"\"\"Implements the Firefly Cellular Automata model\n",
    "    Args:\n",
    "        G (NetworkX Graph): Input graph to the model\n",
    "        s (array): Current state\n",
    "        k (int): k-color FCA\n",
    "        iteration (int): number of iterations\n",
    "    Returns:\n",
    "        ret: states at each iteration\n",
    "        label: whether the system concentrates at the final iteration\n",
    "    \"\"\"\n",
    "    b = (k-1)//2  # Blinking color\n",
    "    ret = s\n",
    "    s_next = np.zeros(G.num_nodes())\n",
    "    for h in range(iteration):\n",
    "        if h != 0:\n",
    "            s = s_next  # Update to the newest state\n",
    "            ret = np.vstack((ret, s_next))\n",
    "        s_next = np.zeros(G.num_nodes())\n",
    "        for i in range(G.num_nodes()):\n",
    "            flag = False  # True if inhibited by the blinking neighbor\n",
    "            if s[i] > b:\n",
    "                for j in range(G.num_nodes()):\n",
    "#                     if s[j] == b and list(G.nodes())[j] in list(G.adj[list(G.nodes())[i]]):\n",
    "                      if s[j] == b and list(G.nodes())[j] in list(G.neighbors(list(G.nodes())[i])):\n",
    "                        flag = True\n",
    "                if flag:\n",
    "                    s_next[i] = s[i]\n",
    "                else:\n",
    "                    s_next[i] = (s[i]+1) % k\n",
    "            else:\n",
    "                s_next[i] = (s[i]+1) % k\n",
    "\n",
    "    width = width_compute(ret[-1], k)\n",
    "    label = False\n",
    "    if (width < floor(k / 2)):  # half circle concentration\n",
    "        label = True\n",
    "\n",
    "    return ret, label\n",
    "\n",
    "def width_compute(coloring, kappa):\n",
    "    differences = [np.max(coloring) - np.min(coloring)]\n",
    "    for j in range(1, kappa+1):\n",
    "        shifted = (np.array(coloring) + j) % kappa\n",
    "        differences.append(np.max(shifted) - np.min(shifted))\n",
    "    return np.min(differences)"
   ]
  },
  {
   "cell_type": "code",
   "execution_count": 76,
   "id": "76d80a5a",
   "metadata": {},
   "outputs": [],
   "source": [
    "# s = np.arccos(np.random.uniform(-1, 1, size))\n",
    "s = np.random.randint(0,4,200)\n",
    "dynamics, label = FCA(G, s, k=5, iteration=50)"
   ]
  },
  {
   "cell_type": "code",
   "execution_count": 121,
   "id": "9a65e46a",
   "metadata": {},
   "outputs": [],
   "source": [
    "my_width = lambda x,y: width_compute([x, y], kappa=5)\n",
    "\n",
    "def ccat(dynamics, sample_k, sample_size, my_width):\n",
    "    X, embs = G.get_patches(k=sample_k, sample_size=sample_size, skip_folded_hom=True)\n",
    "    embs = np.array(embs).astype(int)\n",
    "    tensor_subgraphs = []\n",
    "    for i, embed in enumerate(embs):\n",
    "        final = []\n",
    "        for color in dynamics:\n",
    "            col_idx = color[embed]\n",
    "            adj_mat = X.T[i].reshape(sample_k, sample_k)\n",
    "            for i in range(sample_k-1):\n",
    "                for j in range(i):\n",
    "                    if adj_mat[i,j] > 0:\n",
    "                        adj_mat[i,j] = my_width(color[i], color[j])\n",
    "            adj_mat += adj_mat.T\n",
    "            final.append(adj_mat)\n",
    "        tensor_subgraphs.append(final)\n",
    "    return np.asarray(tensor_subgraphs)"
   ]
  },
  {
   "cell_type": "code",
   "execution_count": null,
   "id": "3dc5c619",
   "metadata": {},
   "outputs": [],
   "source": []
  }
 ],
 "metadata": {
  "kernelspec": {
   "display_name": "Python 3 (ipykernel)",
   "language": "python",
   "name": "python3"
  },
  "language_info": {
   "codemirror_mode": {
    "name": "ipython",
    "version": 3
   },
   "file_extension": ".py",
   "mimetype": "text/x-python",
   "name": "python",
   "nbconvert_exporter": "python",
   "pygments_lexer": "ipython3",
   "version": "3.9.13"
  }
 },
 "nbformat": 4,
 "nbformat_minor": 5
}
