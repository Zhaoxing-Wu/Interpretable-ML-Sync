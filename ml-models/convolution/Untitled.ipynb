{
 "cells": [
  {
   "cell_type": "code",
   "execution_count": 17,
   "id": "9cd90132",
   "metadata": {},
   "outputs": [],
   "source": [
    "%reload_ext autoreload\n",
    "%autoreload 2\n",
    "\n",
    "import networkx as nx\n",
    "import matplotlib.pyplot as plt\n",
    "from math import floor\n",
    "import networkx as nx\n",
    "import numpy as np\n",
    "from NNetwork import NNetwork as nn\n",
    "import pandas as pd\n",
    "import pdb"
   ]
  },
  {
   "cell_type": "code",
   "execution_count": 110,
   "id": "ab4243bb",
   "metadata": {},
   "outputs": [],
   "source": [
    "num_nodes = 200\n",
    "probability = 0.25\n",
    "seed = 42\n",
    "sample_k = 20\n",
    "sample_size = 100"
   ]
  },
  {
   "cell_type": "code",
   "execution_count": 111,
   "id": "e1cc002f",
   "metadata": {},
   "outputs": [],
   "source": [
    "NWS = nx.newman_watts_strogatz_graph(num_nodes, 50, probability, seed)\n",
    "new_nodes = {e: n for n, e in enumerate(NWS.nodes, start=1)}\n",
    "new_edges = [(new_nodes[e1], new_nodes[e2]) for e1, e2 in NWS.edges]\n",
    "edgelist = []\n",
    "for i in range(len(new_edges)):\n",
    "    temp = [str(new_edges[i][0]), str(new_edges[i][1])]\n",
    "    edgelist.append(temp)\n",
    "G = nn.NNetwork()\n",
    "G.add_edges(edgelist)"
   ]
  },
  {
   "cell_type": "code",
   "execution_count": 18,
   "id": "45dbb240",
   "metadata": {},
   "outputs": [],
   "source": [
    "def FCA(G, s, k, iteration):\n",
    "    \"\"\"Implements the Firefly Cellular Automata model\n",
    "    Args:\n",
    "        G (NetworkX Graph): Input graph to the model\n",
    "        s (array): Current state\n",
    "        k (int): k-color FCA\n",
    "        iteration (int): number of iterations\n",
    "    Returns:\n",
    "        ret: states at each iteration\n",
    "        label: whether the system concentrates at the final iteration\n",
    "    \"\"\"\n",
    "    b = (k-1)//2  # Blinking color\n",
    "    ret = s\n",
    "    s_next = np.zeros(G.num_nodes())\n",
    "    for h in range(iteration):\n",
    "        if h != 0:\n",
    "            s = s_next  # Update to the newest state\n",
    "            ret = np.vstack((ret, s_next))\n",
    "        s_next = np.zeros(G.num_nodes())\n",
    "        for i in range(G.num_nodes()):\n",
    "            flag = False  # True if inhibited by the blinking neighbor\n",
    "            if s[i] > b:\n",
    "                for j in range(G.num_nodes()):\n",
    "#                     if s[j] == b and list(G.nodes())[j] in list(G.adj[list(G.nodes())[i]]):\n",
    "                      if s[j] == b and list(G.nodes())[j] in list(G.neighbors(list(G.nodes())[i])):\n",
    "                        flag = True\n",
    "                if flag:\n",
    "                    s_next[i] = s[i]\n",
    "                else:\n",
    "                    s_next[i] = (s[i]+1) % k\n",
    "            else:\n",
    "                s_next[i] = (s[i]+1) % k\n",
    "\n",
    "    width = width_compute(ret[-1], k)\n",
    "    label = False\n",
    "    if (width < floor(k / 2)):  # half circle concentration\n",
    "        label = True\n",
    "\n",
    "    return ret, label\n",
    "\n",
    "def width_compute(coloring, kappa):\n",
    "    differences = [np.max(coloring) - np.min(coloring)]\n",
    "    for j in range(1, kappa+1):\n",
    "        shifted = (np.array(coloring) + j) % kappa\n",
    "        differences.append(np.max(shifted) - np.min(shifted))\n",
    "    return np.min(differences)"
   ]
  },
  {
   "cell_type": "code",
   "execution_count": 76,
   "id": "9a5099fe",
   "metadata": {},
   "outputs": [],
   "source": [
    "# s = np.arccos(np.random.uniform(-1, 1, size))\n",
    "s = np.random.randint(0,4,200)\n",
    "dynamics, label = FCA(G, s, k=5, iteration=50)"
   ]
  },
  {
   "cell_type": "code",
   "execution_count": 52,
   "id": "fb8cc99b",
   "metadata": {},
   "outputs": [],
   "source": [
    "my_width = lambda x,y: width_compute([x, y], kappa=5)\n",
    "\n",
    "def ccat(dynamics, label, sample_k, sample_size, my_width):\n",
    "    X, embs = G.get_patches(k=sample_k, sample_size=sample_size, skip_folded_hom=True)\n",
    "    embs = np.array(embs).astype(int)\n",
    "    tensor_subgraphs = []\n",
    "    for i, embed in enumerate(embs):\n",
    "        embed -= 1\n",
    "        final = []\n",
    "        for color in dynamics:\n",
    "#             pdb.set_trace()\n",
    "            col_idx = color[embed]\n",
    "#             pdb.set_trace()\n",
    "            adj_mat = X.T[i].reshape(sample_k, sample_k)\n",
    "            for j in range(sample_k-1):\n",
    "                for k in range(j):\n",
    "                    if adj_mat[j,k] > 0:\n",
    "                        adj_mat[j,k] = my_width(col_idx[j], col_idx[k])\n",
    "            adj_mat += adj_mat.T\n",
    "            final.append(adj_mat)\n",
    "        tensor_subgraphs.append((np.asarray(final), label))\n",
    "    return tensor_subgraphs"
   ]
  },
  {
   "cell_type": "code",
   "execution_count": 63,
   "id": "5ed615a7",
   "metadata": {},
   "outputs": [
    {
     "name": "stdout",
     "output_type": "stream",
     "text": [
      "num of subgraphs induced on k-paths: 3\n",
      "num of subgraphs induced on k-paths: 3\n",
      "num of subgraphs induced on k-paths: 3\n",
      "num of subgraphs induced on k-paths: 3\n",
      "num of subgraphs induced on k-paths: 3\n",
      "num of subgraphs induced on k-paths: 3\n",
      "num of subgraphs induced on k-paths: 3\n",
      "num of subgraphs induced on k-paths: 3\n",
      "num of subgraphs induced on k-paths: 3\n"
     ]
    }
   ],
   "source": [
    "# 100 parents\n",
    "N = 10\n",
    "subgraphs = []\n",
    "\n",
    "for i in range(1, N):\n",
    "    num_nodes = 100\n",
    "    probability = 0.15\n",
    "    seed = 42\n",
    "    sample_k = 15\n",
    "    sample_size = 3\n",
    "    \n",
    "    # Generates a new random parent graph\n",
    "    NWS = nx.newman_watts_strogatz_graph(num_nodes, 50, probability, seed)\n",
    "    new_nodes = {e: n for n, e in enumerate(NWS.nodes, start=1)}\n",
    "    new_edges = [(new_nodes[e1], new_nodes[e2]) for e1, e2 in NWS.edges]\n",
    "    edgelist = []\n",
    "    for i in range(len(new_edges)):\n",
    "        temp = [str(new_edges[i][0]), str(new_edges[i][1])]\n",
    "        edgelist.append(temp)\n",
    "    G = nn.NNetwork()\n",
    "    G.add_edges(edgelist)\n",
    "    \n",
    "    s = np.random.randint(0,4,100)\n",
    "    dynamics, label = FCA(G, s, k=5, iteration=50)\n",
    "    dynamics -= 1\n",
    "    \n",
    "    subgraphs += ccat(dynamics, label, sample_k, sample_size, my_width)"
   ]
  },
  {
   "cell_type": "code",
   "execution_count": 64,
   "id": "f798b33e",
   "metadata": {},
   "outputs": [],
   "source": [
    "labels = [x[1] for x in subgraphs]"
   ]
  },
  {
   "cell_type": "code",
   "execution_count": 65,
   "id": "b0505b64",
   "metadata": {},
   "outputs": [
    {
     "data": {
      "text/plain": [
       "[True,\n",
       " True,\n",
       " True,\n",
       " True,\n",
       " True,\n",
       " True,\n",
       " True,\n",
       " True,\n",
       " True,\n",
       " True,\n",
       " True,\n",
       " True,\n",
       " True,\n",
       " True,\n",
       " True,\n",
       " True,\n",
       " True,\n",
       " True,\n",
       " True,\n",
       " True,\n",
       " True,\n",
       " True,\n",
       " True,\n",
       " True,\n",
       " True,\n",
       " True,\n",
       " True]"
      ]
     },
     "execution_count": 65,
     "metadata": {},
     "output_type": "execute_result"
    }
   ],
   "source": [
    "labels"
   ]
  },
  {
   "cell_type": "code",
   "execution_count": null,
   "id": "22022c8d",
   "metadata": {},
   "outputs": [],
   "source": [
    " = [x[0] for x in subgraphs]"
   ]
  }
 ],
 "metadata": {
  "kernelspec": {
   "display_name": "Python 3 (ipykernel)",
   "language": "python",
   "name": "python3"
  },
  "language_info": {
   "codemirror_mode": {
    "name": "ipython",
    "version": 3
   },
   "file_extension": ".py",
   "mimetype": "text/x-python",
   "name": "python",
   "nbconvert_exporter": "python",
   "pygments_lexer": "ipython3",
   "version": "3.9.13"
  }
 },
 "nbformat": 4,
 "nbformat_minor": 5
}
