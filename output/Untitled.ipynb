{
 "cells": [
  {
   "cell_type": "code",
   "execution_count": 1,
   "id": "84ffb9e7",
   "metadata": {},
   "outputs": [],
   "source": [
    "import pandas as pd"
   ]
  },
  {
   "cell_type": "code",
   "execution_count": 9,
   "id": "918a1b14",
   "metadata": {},
   "outputs": [],
   "source": [
    "df_k10_nws = pd.read_pickle(\"./results/SAMPLES-10000_NTWK-nws-20000-1000-05_K-10_DYNAMIC-fca_sdl-r8.pkl\")\n",
    "df_k10_kur = pd.read_pickle(\"./results/SAMPLES-10000_NTWK-nws-20000-1000-05_K-10_DYNAMIC-kura_sdl-r8.pkl\")\n",
    "df_k10_ghm = pd.read_pickle(\"./results/SAMPLES-10000_NTWK-nws-20000-1000-05_K-10_DYNAMIC-ghm_sdl-r8.pkl\")"
   ]
  },
  {
   "cell_type": "code",
   "execution_count": 10,
   "id": "3c456c65",
   "metadata": {},
   "outputs": [
    {
     "data": {
      "text/plain": [
       "0.8851508120649652"
      ]
     },
     "execution_count": 10,
     "metadata": {},
     "output_type": "execute_result"
    }
   ],
   "source": [
    "df_k10_nws['Accuracy']"
   ]
  },
  {
   "cell_type": "code",
   "execution_count": 11,
   "id": "67d2aca5",
   "metadata": {},
   "outputs": [
    {
     "data": {
      "text/plain": [
       "0.811529933481153"
      ]
     },
     "execution_count": 11,
     "metadata": {},
     "output_type": "execute_result"
    }
   ],
   "source": [
    "df_k10_kur['Accuracy']"
   ]
  },
  {
   "cell_type": "code",
   "execution_count": 12,
   "id": "e6591430",
   "metadata": {},
   "outputs": [
    {
     "data": {
      "text/plain": [
       "1.0"
      ]
     },
     "execution_count": 12,
     "metadata": {},
     "output_type": "execute_result"
    }
   ],
   "source": [
    "df_k10_ghm['Accuracy']"
   ]
  },
  {
   "cell_type": "code",
   "execution_count": null,
   "id": "ed16bcda",
   "metadata": {},
   "outputs": [],
   "source": []
  }
 ],
 "metadata": {
  "kernelspec": {
   "display_name": "Python 3 (ipykernel)",
   "language": "python",
   "name": "python3"
  },
  "language_info": {
   "codemirror_mode": {
    "name": "ipython",
    "version": 3
   },
   "file_extension": ".py",
   "mimetype": "text/x-python",
   "name": "python",
   "nbconvert_exporter": "python",
   "pygments_lexer": "ipython3",
   "version": "3.9.13"
  }
 },
 "nbformat": 4,
 "nbformat_minor": 5
}
